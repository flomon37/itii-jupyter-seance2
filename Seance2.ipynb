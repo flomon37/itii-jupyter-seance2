{
 "cells": [
  {
   "cell_type": "markdown",
   "metadata": {
    "colab_type": "text",
    "id": "view-in-github"
   },
   "source": [
    "<a href=\"https://colab.research.google.com/github/BDafflon/itii-jupyter/blob/master/Seance2.ipynb\" target=\"_parent\"><img src=\"https://colab.research.google.com/assets/colab-badge.svg\" alt=\"Open In Colab\"/></a>"
   ]
  },
  {
   "cell_type": "markdown",
   "metadata": {
    "colab_type": "text",
    "id": "TKz8_nW8kcAc"
   },
   "source": [
    "#programmation orientée objet (POO)"
   ]
  },
  {
   "cell_type": "markdown",
   "metadata": {
    "colab_type": "text",
    "id": "fTOd3HyLkfpk"
   },
   "source": [
    "La programmation orientée objet (POO) est un passage obligé lors de l’apprentissage de nombreux langage informatiques et est également un sujet relativement ardu lorsqu’on nous le présente pour la première fois."
   ]
  },
  {
   "cell_type": "markdown",
   "metadata": {
    "colab_type": "text",
    "id": "ilPa-rmJklRM"
   },
   "source": [
    "La programmation orientée objet (ou POO en abrégé) correspond à une autre manière d’imaginer, de construire et d’organiser son code.\n",
    "\n",
    "La programmation orientée objet repose sur le concept d’objets qui sont des entités qui vont pouvoir posséder un ensemble de variables et de fonctions qui leur sont propres.\n",
    "\n",
    "Les objectifs principaux de la programmation orientée objet sont de nous permettre de créer des scripts plus clairs, mieux structurés, plus modulables et plus faciles à maintenir et à déboguer. Nous allons illustrer cela en pratique au cours de cette partie."
   ]
  },
  {
   "cell_type": "markdown",
   "metadata": {
    "colab_type": "text",
    "id": "y3YgYuIOkqak"
   },
   "source": [
    "##Le Python, un langage orienté objet\n"
   ]
  },
  {
   "cell_type": "markdown",
   "metadata": {
    "colab_type": "text",
    "id": "9EPyXHArkrvC"
   },
   "source": [
    "Python est un langage résolument orienté objet, ce qui signifie que le langage tout entier est construit autour de la notion d’objets.\n",
    "\n",
    "En fait, quasiment tout en Python est avant tout un objet et nous avons manipulé des objets depuis le début de ce cours sans nous en rendre compte : les types str, int, list, etc. sont avant tout des objets, les fonctions sont des objets, etc.\n",
    "\n",
    "Pour véritablement maitriser Python et utiliser toutes ses fonctionnalités, il est donc indispensable de comprendre cette composante orienté objet."
   ]
  },
  {
   "cell_type": "markdown",
   "metadata": {
    "colab_type": "text",
    "id": "6IeZ7lsmkxlb"
   },
   "source": [
    " ##Les objets"
   ]
  },
  {
   "cell_type": "markdown",
   "metadata": {
    "colab_type": "text",
    "id": "tEJSYKGHk1l8"
   },
   "source": [
    "Dans la vie réelle, un objet possède des caractéristiques et nous permet de réaliser des actions. Un crayon par exemple possède une taille, une couleur, une forme, etc. qui sont ses caractéristiques et permet d’écrire ou de dessiner.\n",
    "\n",
    "Le concept d’objets en informatique s’inspire fortement de cette définition de la vie réelle : on va appeler “objet” un bloc cohérent de code qui possède ses propres variables (qui sont l’équivalent des caractéristiques des objets de tous les jours) et fonctions (qui sont nos actions). Comme les objets de la vie courante, les objets informatiques peuvent être très simples ou très complexes.\n",
    "\n",
    "Vous pouvez déjà noter que Python parle “d’attributs” pour désigner les variables et fonctions d’un objet et plus précisément “d’attributs de données” pour désigner les variables d’un objet et de “méthodes” pour désigner les fonctions qui lui sont propres.\n",
    "\n",
    "Dans la plupart des langages informatiques, on parle plutôt de “membres” pour désigner les variables et fonctions d’un objet et de “propriété” pour désigner les variables et de “méthodes” pour désigner les fonctions."
   ]
  },
  {
   "cell_type": "markdown",
   "metadata": {
    "colab_type": "text",
    "id": "bSN5f6A3k-vX"
   },
   "source": [
    "En POO, un objet ne peut pas être créé ex nihiliste (à partir de rien). La plupart des langages qui supportent l’orienté objet (dont le Python) utilisent d’autres entités pour créer des objets qu’on appelle des classes.\n",
    "\n",
    "Une classe est également un ensemble cohérent de code qui contient généralement à la fois des variables et des fonctions et qui va nous servir de plan pour créer des objets possédant un même ensemble de d’attributs de données et de méthodes de base.\n",
    "\n",
    "En fait, on peut aller jusqu’à considérer que les classes sont les principaux outils de la POO puisqu’elles permettent de mettre en place des concepts fondamentaux de la POO comme l’héritage, l’encapsulation ou le polymorphisme qui sont des concepts qu’on expliquera et qu’on étudiera en détail plus tard."
   ]
  },
  {
   "cell_type": "markdown",
   "metadata": {
    "colab_type": "text",
    "id": "cUdmf_AXlAsr"
   },
   "source": [
    "##Exemple de Classe"
   ]
  },
  {
   "cell_type": "markdown",
   "metadata": {
    "colab_type": "text",
    "id": "fGNYP9I2lEjq"
   },
   "source": [
    "Pour créer une nouvelle classe Python on utilise le mot clef class suivi du nom de notre classe. Ici, on va créer une classe Utilisateur qui va être très simple pour le moment."
   ]
  },
  {
   "cell_type": "code",
   "execution_count": null,
   "metadata": {
    "colab": {},
    "colab_type": "code",
    "id": "cZ67k1BEkGYr"
   },
   "outputs": [],
   "source": [
    "class Point2D:\n",
    "  "
   ]
  },
  {
   "cell_type": "markdown",
   "metadata": {
    "colab_type": "text",
    "id": "dfzunMn_lYP0"
   },
   "source": [
    "La fonction __init__() va être automatiquement exécutée dès qu’on va instancier la classe. Cette fonction va pouvoir recevoir des arguments qu’on va lui transmettre durant l’instanciation et qui vont nous permettre de définir des valeurs propres à chaque instance.\n",
    "\n",
    "L’idée générale est la suivante : notre fonction __init__() va être construite de telle sorte à ce que les arguments passés soient utilisés comme valeur d’initalisation pour les attributs d’une instance. On va passer les argument lors de l’instanciation, via le constructeur"
   ]
  },
  {
   "cell_type": "code",
   "execution_count": 1,
   "metadata": {
    "colab": {},
    "colab_type": "code",
    "id": "mpE6MiE2lhsb"
   },
   "outputs": [],
   "source": [
    "class Point2D:\n",
    "  def __init__(self,px,py):\n",
    "    self.x=px\n",
    "    self.y=py\n",
    "  \n",
    "  def getX(self):\n",
    "    return self.x"
   ]
  },
  {
   "cell_type": "markdown",
   "metadata": {
    "colab_type": "text",
    "id": "UqrKIi-Llt0f"
   },
   "source": [
    "Notre classe Point2D() est désormais composée de variables x et y et de deux fonctions __init()__ et getX()."
   ]
  },
  {
   "cell_type": "markdown",
   "metadata": {
    "colab_type": "text",
    "id": "GFT5FlVtmDvA"
   },
   "source": [
    "Nous pouvons donc maintenant créer une instance de notre classe :"
   ]
  },
  {
   "cell_type": "code",
   "execution_count": 2,
   "metadata": {
    "colab": {
     "base_uri": "https://localhost:8080/",
     "height": 35
    },
    "colab_type": "code",
    "id": "sxEZSUgomH-S",
    "outputId": "7a3556d9-2c2b-479c-81ab-e6d0f2d940d4"
   },
   "outputs": [
    {
     "name": "stdout",
     "output_type": "stream",
     "text": [
      "0\n"
     ]
    }
   ],
   "source": [
    "myPoint2d = Point2D(0,0)\n",
    "print(myPoint2d.getX())"
   ]
  },
  {
   "cell_type": "markdown",
   "metadata": {
    "colab_type": "text",
    "id": "Gb2tYWxNmaBS"
   },
   "source": [
    "Pour aller plus loin : https://python.developpez.com/cours/apprendre-python-3/?page=la-programmation-orientee-objet"
   ]
  },
  {
   "cell_type": "markdown",
   "metadata": {
    "colab_type": "text",
    "id": "Okx2FPdCmdi6"
   },
   "source": [
    "Ex1: Rectangle \n",
    "* Ecrire une classe Rectangle en langage Python, permettant de construire un rectangle dotée d’attributs longueur et largeur.\n",
    "\n",
    "* Créer une méthode Perimetre() permettant de calculer le périmètre du rectangle et une méthode Surface() permettant de calculer la surface du rectangle\n",
    "* Créer les getters et setters.\n",
    "* Créer une classe fille Parallelepipede héritant de la classe Rectangle et dotée en plus d’un attribut hauteur et d’une autre méthode Volume() permettant de calculer le volume du Parallélépipède.\n"
   ]
  },
  {
   "cell_type": "code",
   "execution_count": 1,
   "metadata": {},
   "outputs": [
    {
     "output_type": "execute_result",
     "data": {
      "text/plain": "12"
     },
     "metadata": {},
     "execution_count": 1
    }
   ],
   "source": [
    "class Rectangle:\n",
    "    def __init__(self, longueur, largeur):\n",
    "        self.longueur = longueur\n",
    "        self.largeur = largeur\n",
    "    \n",
    "    def perimetre(self):\n",
    "        return 2*self.longueur+2*self.largeur\n",
    "    \n",
    "    def surface(self):\n",
    "        return self.longueur*self.largeur\n",
    "    \n",
    "    def getLongueur(self):\n",
    "        return self.longueur\n",
    "    \n",
    "    def getLargeur(self):\n",
    "        return self.largeur\n",
    "    \n",
    "    def setLongueur(self, longueur):\n",
    "        self.longueur = longueur\n",
    "    \n",
    "    def setLargeur(self, largeur):\n",
    "        self.largeur = largeur\n",
    "\n",
    "class Parallelepipede(Rectangle):\n",
    "    \n",
    "    def __init__(self, longueur, largeur, hauteur):\n",
    "        super().__init__(longueur, largeur)\n",
    "        self.hauteur = hauteur\n",
    "    \n",
    "    def volume(self):\n",
    "        return super().surface()*self.hauteur\n",
    "\n",
    "para = Parallelepipede(3,2,2)\n",
    "para.volume()"
   ]
  },
  {
   "cell_type": "markdown",
   "metadata": {
    "colab_type": "text",
    "id": "_F0lCehgn7Gq"
   },
   "source": [
    "Ex2 : Vecteur\n",
    "Déﬁnir une classe Vecteur2D avec un constructeur fournissant les coordonnées par défaut d’un vecteur du plan (par exemple : x = 0 et y = 0).\n",
    "\n",
    "Enrichissez la classe Vecteur2D  en lui ajoutant une méthode d’affichage et une méthode de surcharge d’addition de deux vecteurs du plan.\n",
    "\n",
    "\n",
    "\n"
   ]
  },
  {
   "cell_type": "code",
   "execution_count": 6,
   "metadata": {},
   "outputs": [
    {
     "name": "stdout",
     "output_type": "stream",
     "text": [
      "Vecteur2D : x = 3 , y = 3\n"
     ]
    }
   ],
   "source": [
    "class Vecteur2D:\n",
    "    \n",
    "    def __init__(self):\n",
    "        self.x = 0\n",
    "        self.y = 0\n",
    "    \n",
    "    def __init__(self, x, y):\n",
    "        self.x = x\n",
    "        self.y = y\n",
    "    \n",
    "    def affiche(self):\n",
    "        return print(\"Vecteur2D : x =\", self.x, \", y =\", self.y)\n",
    "    \n",
    "    def __add__(self, vecteur2):\n",
    "        return Vecteur2D(self.x + vecteur2.x, self.y + vecteur2.y)\n",
    "\n",
    "\n",
    "p1 = Vecteur2D(1,1)\n",
    "p2 = Vecteur2D(2,2)\n",
    "(p1+p2).affiche()"
   ]
  },
  {
   "cell_type": "markdown",
   "metadata": {
    "colab_type": "text",
    "id": "qNxIpufdoUvT"
   },
   "source": [
    "Ex3 : Pile et File\n",
    "Implanter des classes Pile et File utilisant les listes comme structure de données interne et respectant l’interface suivante"
   ]
  },
  {
   "cell_type": "code",
   "execution_count": 18,
   "metadata": {
    "colab": {},
    "colab_type": "code",
    "id": "mp_-JOPnoYVL"
   },
   "outputs": [
    {
     "name": "stdout",
     "output_type": "stream",
     "text": [
      "[2, 3, 4]\n",
      "[4, 3, 2]\n",
      "[2, 3]\n",
      "[3, 2]\n"
     ]
    }
   ],
   "source": [
    "class Base(object):\n",
    "    def pop(self):\n",
    "        pass\n",
    "    def push(self, elt):\n",
    "        pass\n",
    "\n",
    "class Pile(Base):\n",
    "    def __init__(self):\n",
    "        self.pile = []\n",
    "          \n",
    "    def pop(self):\n",
    "        self.pile.pop()\n",
    "    \n",
    "    def push(self, elem):\n",
    "        return self.pile.append(elem)\n",
    "\n",
    "class File(Base):\n",
    "    def __init__(self):\n",
    "        self.file = []\n",
    "          \n",
    "    def pop(self):\n",
    "        self.file.pop(0)\n",
    "    \n",
    "    def push(self, elem):\n",
    "        return self.file.insert(0, elem)\n",
    "    \n",
    "\n",
    "p = Pile()\n",
    "f = File()\n",
    "p.push(2)\n",
    "p.push(3)\n",
    "p.push(4)\n",
    "f.push(2)\n",
    "f.push(3)\n",
    "f.push(4)\n",
    "print(p.pile)\n",
    "print(f.file)\n",
    "p.pop()\n",
    "f.pop()\n",
    "print(p.pile)\n",
    "print(f.file)"
   ]
  },
  {
   "cell_type": "markdown",
   "metadata": {
    "colab_type": "text",
    "id": "-NDwPy_yozM2"
   },
   "source": [
    "Ex4: \n",
    "1. Objectifs : préparer le calcul de l’ensemble de Mandelbrot, en utilisant directement les nombres complexes\n",
    "\n",
    "Dans une classe **Mandelbrot**\n",
    "* Programmer une methode f(z,c)qui pour z et c, des nombres complexes donnés,renvoie z^2+c\n",
    "* Programme une methode iterer(c) qui pour un nombre complexe c donné, renvoie le nombre d’itérations qu’il a fallu pour que la suite(zn) s’échappe « à l’infini » ; si au bout d’un certain nombre d’itérations la suite ne s’échappe pas, la fonction renvoie 0\n",
    "\n",
    "* Programme une fonctionf(x,y,a,b) qui pour x,y,a,b, des nombres réels, calcule x′=x^2−y^2+a et y′=2x y+b et renvoie les deux nombres réels x′et y′.\n",
    "\n",
    "* Programme une fonctioniterer(a,b) qui pour un couple de réel(a,b) donné, renvoie le nombre d’itérations qu’il a fallu pour que la suite(xn,yn)s’échappe « à l’infini » ; si au bout d’un certain nombre d’itérations la suite ne s’échappe pas, la fonction renvoie 0.\n",
    "\n",
    "En utilisant matplotlib :\n",
    "* Programme une fonctionafficher_pixel(i,j,couleur)qui affiche un pixel coloré en position(i,j)\n",
    "* Programme une fonctionchoix_couleur(i)qui renvoie une couleur en fonction du nombrei(quicorrespondra au nombre d’itérations)\n",
    "* Définis des variables xmin,xmax,ymin,ymax qui correspondent à la zone de l’ensemble de Mandel-brot à visualiser."
   ]
  },
  {
   "cell_type": "code",
   "execution_count": 2,
   "metadata": {
    "tags": []
   },
   "outputs": [
    {
     "output_type": "error",
     "ename": "KeyboardInterrupt",
     "evalue": "",
     "traceback": [
      "\u001b[1;31m---------------------------------------------------------------------------\u001b[0m",
      "\u001b[1;31mKeyboardInterrupt\u001b[0m                         Traceback (most recent call last)",
      "\u001b[1;32m<ipython-input-2-3b8f26003c14>\u001b[0m in \u001b[0;36m<module>\u001b[1;34m\u001b[0m\n\u001b[0;32m     58\u001b[0m             \u001b[0mm\u001b[0m \u001b[1;33m=\u001b[0m \u001b[0mMandelbrot\u001b[0m\u001b[1;33m.\u001b[0m\u001b[0mmandelbrot\u001b[0m\u001b[1;33m(\u001b[0m\u001b[0mc\u001b[0m\u001b[1;33m)\u001b[0m\u001b[1;33m\u001b[0m\u001b[1;33m\u001b[0m\u001b[0m\n\u001b[0;32m     59\u001b[0m             \u001b[0mcouleur\u001b[0m \u001b[1;33m=\u001b[0m \u001b[1;36m255\u001b[0m \u001b[1;33m-\u001b[0m \u001b[0mint\u001b[0m\u001b[1;33m(\u001b[0m\u001b[0mm\u001b[0m \u001b[1;33m*\u001b[0m \u001b[1;36m255\u001b[0m\u001b[1;33m/\u001b[0m\u001b[0mMAX_ITER\u001b[0m\u001b[1;33m)\u001b[0m\u001b[1;33m\u001b[0m\u001b[1;33m\u001b[0m\u001b[0m\n\u001b[1;32m---> 60\u001b[1;33m             \u001b[0mMandelbrot\u001b[0m\u001b[1;33m.\u001b[0m\u001b[0mafficher_pixel\u001b[0m\u001b[1;33m(\u001b[0m\u001b[0mx\u001b[0m\u001b[1;33m,\u001b[0m \u001b[0my\u001b[0m\u001b[1;33m,\u001b[0m \u001b[0mcouleur\u001b[0m\u001b[1;33m)\u001b[0m\u001b[1;33m\u001b[0m\u001b[1;33m\u001b[0m\u001b[0m\n\u001b[0m\u001b[0;32m     61\u001b[0m             \u001b[0my\u001b[0m \u001b[1;33m+=\u001b[0m \u001b[0mPAS\u001b[0m\u001b[1;33m\u001b[0m\u001b[1;33m\u001b[0m\u001b[0m\n\u001b[0;32m     62\u001b[0m         \u001b[0mx\u001b[0m \u001b[1;33m+=\u001b[0m \u001b[0mPAS\u001b[0m\u001b[1;33m\u001b[0m\u001b[1;33m\u001b[0m\u001b[0m\n",
      "\u001b[1;32m<ipython-input-2-3b8f26003c14>\u001b[0m in \u001b[0;36mafficher_pixel\u001b[1;34m(i, j, c)\u001b[0m\n\u001b[0;32m     39\u001b[0m     \u001b[1;32mdef\u001b[0m \u001b[0mafficher_pixel\u001b[0m\u001b[1;33m(\u001b[0m\u001b[0mi\u001b[0m\u001b[1;33m,\u001b[0m \u001b[0mj\u001b[0m\u001b[1;33m,\u001b[0m \u001b[0mc\u001b[0m\u001b[1;33m)\u001b[0m\u001b[1;33m:\u001b[0m\u001b[1;33m\u001b[0m\u001b[1;33m\u001b[0m\u001b[0m\n\u001b[0;32m     40\u001b[0m         \u001b[0mcolor\u001b[0m \u001b[1;33m=\u001b[0m \u001b[0mMandelbrot\u001b[0m\u001b[1;33m.\u001b[0m\u001b[0mrgb2hex\u001b[0m\u001b[1;33m(\u001b[0m\u001b[0mc\u001b[0m\u001b[1;33m,\u001b[0m\u001b[0mc\u001b[0m\u001b[1;33m,\u001b[0m\u001b[0mc\u001b[0m\u001b[1;33m)\u001b[0m\u001b[1;33m\u001b[0m\u001b[1;33m\u001b[0m\u001b[0m\n\u001b[1;32m---> 41\u001b[1;33m         \u001b[0mplt\u001b[0m\u001b[1;33m.\u001b[0m\u001b[0mscatter\u001b[0m\u001b[1;33m(\u001b[0m\u001b[0mi\u001b[0m\u001b[1;33m,\u001b[0m \u001b[0mj\u001b[0m\u001b[1;33m,\u001b[0m \u001b[0mc\u001b[0m \u001b[1;33m=\u001b[0m \u001b[0mcolor\u001b[0m\u001b[1;33m,\u001b[0m \u001b[0ms\u001b[0m \u001b[1;33m=\u001b[0m \u001b[1;36m0.5\u001b[0m\u001b[1;33m)\u001b[0m\u001b[1;33m\u001b[0m\u001b[1;33m\u001b[0m\u001b[0m\n\u001b[0m\u001b[0;32m     42\u001b[0m \u001b[1;33m\u001b[0m\u001b[0m\n\u001b[0;32m     43\u001b[0m     \u001b[1;32mdef\u001b[0m \u001b[0mchoix_couleur\u001b[0m\u001b[1;33m(\u001b[0m\u001b[0mi\u001b[0m\u001b[1;33m)\u001b[0m\u001b[1;33m:\u001b[0m\u001b[1;33m\u001b[0m\u001b[1;33m\u001b[0m\u001b[0m\n",
      "\u001b[1;32mD:\\Python 3.7.3\\lib\\site-packages\\matplotlib\\pyplot.py\u001b[0m in \u001b[0;36mscatter\u001b[1;34m(x, y, s, c, marker, cmap, norm, vmin, vmax, alpha, linewidths, verts, edgecolors, plotnonfinite, data, **kwargs)\u001b[0m\n\u001b[0;32m   2893\u001b[0m         \u001b[0mverts\u001b[0m\u001b[1;33m=\u001b[0m\u001b[0mverts\u001b[0m\u001b[1;33m,\u001b[0m \u001b[0medgecolors\u001b[0m\u001b[1;33m=\u001b[0m\u001b[0medgecolors\u001b[0m\u001b[1;33m,\u001b[0m\u001b[1;33m\u001b[0m\u001b[1;33m\u001b[0m\u001b[0m\n\u001b[0;32m   2894\u001b[0m         \u001b[0mplotnonfinite\u001b[0m\u001b[1;33m=\u001b[0m\u001b[0mplotnonfinite\u001b[0m\u001b[1;33m,\u001b[0m\u001b[1;33m\u001b[0m\u001b[1;33m\u001b[0m\u001b[0m\n\u001b[1;32m-> 2895\u001b[1;33m         **({\"data\": data} if data is not None else {}), **kwargs)\n\u001b[0m\u001b[0;32m   2896\u001b[0m     \u001b[0msci\u001b[0m\u001b[1;33m(\u001b[0m\u001b[0m__ret\u001b[0m\u001b[1;33m)\u001b[0m\u001b[1;33m\u001b[0m\u001b[1;33m\u001b[0m\u001b[0m\n\u001b[0;32m   2897\u001b[0m     \u001b[1;32mreturn\u001b[0m \u001b[0m__ret\u001b[0m\u001b[1;33m\u001b[0m\u001b[1;33m\u001b[0m\u001b[0m\n",
      "\u001b[1;32mD:\\Python 3.7.3\\lib\\site-packages\\matplotlib\\__init__.py\u001b[0m in \u001b[0;36minner\u001b[1;34m(ax, data, *args, **kwargs)\u001b[0m\n\u001b[0;32m   1436\u001b[0m     \u001b[1;32mdef\u001b[0m \u001b[0minner\u001b[0m\u001b[1;33m(\u001b[0m\u001b[0max\u001b[0m\u001b[1;33m,\u001b[0m \u001b[1;33m*\u001b[0m\u001b[0margs\u001b[0m\u001b[1;33m,\u001b[0m \u001b[0mdata\u001b[0m\u001b[1;33m=\u001b[0m\u001b[1;32mNone\u001b[0m\u001b[1;33m,\u001b[0m \u001b[1;33m**\u001b[0m\u001b[0mkwargs\u001b[0m\u001b[1;33m)\u001b[0m\u001b[1;33m:\u001b[0m\u001b[1;33m\u001b[0m\u001b[1;33m\u001b[0m\u001b[0m\n\u001b[0;32m   1437\u001b[0m         \u001b[1;32mif\u001b[0m \u001b[0mdata\u001b[0m \u001b[1;32mis\u001b[0m \u001b[1;32mNone\u001b[0m\u001b[1;33m:\u001b[0m\u001b[1;33m\u001b[0m\u001b[1;33m\u001b[0m\u001b[0m\n\u001b[1;32m-> 1438\u001b[1;33m             \u001b[1;32mreturn\u001b[0m \u001b[0mfunc\u001b[0m\u001b[1;33m(\u001b[0m\u001b[0max\u001b[0m\u001b[1;33m,\u001b[0m \u001b[1;33m*\u001b[0m\u001b[0mmap\u001b[0m\u001b[1;33m(\u001b[0m\u001b[0msanitize_sequence\u001b[0m\u001b[1;33m,\u001b[0m \u001b[0margs\u001b[0m\u001b[1;33m)\u001b[0m\u001b[1;33m,\u001b[0m \u001b[1;33m**\u001b[0m\u001b[0mkwargs\u001b[0m\u001b[1;33m)\u001b[0m\u001b[1;33m\u001b[0m\u001b[1;33m\u001b[0m\u001b[0m\n\u001b[0m\u001b[0;32m   1439\u001b[0m \u001b[1;33m\u001b[0m\u001b[0m\n\u001b[0;32m   1440\u001b[0m         \u001b[0mbound\u001b[0m \u001b[1;33m=\u001b[0m \u001b[0mnew_sig\u001b[0m\u001b[1;33m.\u001b[0m\u001b[0mbind\u001b[0m\u001b[1;33m(\u001b[0m\u001b[0max\u001b[0m\u001b[1;33m,\u001b[0m \u001b[1;33m*\u001b[0m\u001b[0margs\u001b[0m\u001b[1;33m,\u001b[0m \u001b[1;33m**\u001b[0m\u001b[0mkwargs\u001b[0m\u001b[1;33m)\u001b[0m\u001b[1;33m\u001b[0m\u001b[1;33m\u001b[0m\u001b[0m\n",
      "\u001b[1;32mD:\\Python 3.7.3\\lib\\site-packages\\matplotlib\\cbook\\deprecation.py\u001b[0m in \u001b[0;36mwrapper\u001b[1;34m(*inner_args, **inner_kwargs)\u001b[0m\n\u001b[0;32m    409\u001b[0m                          \u001b[1;32melse\u001b[0m \u001b[0mdeprecation_addendum\u001b[0m\u001b[1;33m,\u001b[0m\u001b[1;33m\u001b[0m\u001b[1;33m\u001b[0m\u001b[0m\n\u001b[0;32m    410\u001b[0m                 **kwargs)\n\u001b[1;32m--> 411\u001b[1;33m         \u001b[1;32mreturn\u001b[0m \u001b[0mfunc\u001b[0m\u001b[1;33m(\u001b[0m\u001b[1;33m*\u001b[0m\u001b[0minner_args\u001b[0m\u001b[1;33m,\u001b[0m \u001b[1;33m**\u001b[0m\u001b[0minner_kwargs\u001b[0m\u001b[1;33m)\u001b[0m\u001b[1;33m\u001b[0m\u001b[1;33m\u001b[0m\u001b[0m\n\u001b[0m\u001b[0;32m    412\u001b[0m \u001b[1;33m\u001b[0m\u001b[0m\n\u001b[0;32m    413\u001b[0m     \u001b[1;32mreturn\u001b[0m \u001b[0mwrapper\u001b[0m\u001b[1;33m\u001b[0m\u001b[1;33m\u001b[0m\u001b[0m\n",
      "\u001b[1;32mD:\\Python 3.7.3\\lib\\site-packages\\matplotlib\\axes\\_axes.py\u001b[0m in \u001b[0;36mscatter\u001b[1;34m(self, x, y, s, c, marker, cmap, norm, vmin, vmax, alpha, linewidths, verts, edgecolors, plotnonfinite, **kwargs)\u001b[0m\n\u001b[0;32m   4515\u001b[0m                 \u001b[0mself\u001b[0m\u001b[1;33m.\u001b[0m\u001b[0mset_ymargin\u001b[0m\u001b[1;33m(\u001b[0m\u001b[1;36m0.05\u001b[0m\u001b[1;33m)\u001b[0m\u001b[1;33m\u001b[0m\u001b[1;33m\u001b[0m\u001b[0m\n\u001b[0;32m   4516\u001b[0m \u001b[1;33m\u001b[0m\u001b[0m\n\u001b[1;32m-> 4517\u001b[1;33m         \u001b[0mself\u001b[0m\u001b[1;33m.\u001b[0m\u001b[0madd_collection\u001b[0m\u001b[1;33m(\u001b[0m\u001b[0mcollection\u001b[0m\u001b[1;33m)\u001b[0m\u001b[1;33m\u001b[0m\u001b[1;33m\u001b[0m\u001b[0m\n\u001b[0m\u001b[0;32m   4518\u001b[0m         \u001b[0mself\u001b[0m\u001b[1;33m.\u001b[0m\u001b[0m_request_autoscale_view\u001b[0m\u001b[1;33m(\u001b[0m\u001b[1;33m)\u001b[0m\u001b[1;33m\u001b[0m\u001b[1;33m\u001b[0m\u001b[0m\n\u001b[0;32m   4519\u001b[0m \u001b[1;33m\u001b[0m\u001b[0m\n",
      "\u001b[1;32mD:\\Python 3.7.3\\lib\\site-packages\\matplotlib\\axes\\_base.py\u001b[0m in \u001b[0;36madd_collection\u001b[1;34m(self, collection, autolim)\u001b[0m\n\u001b[0;32m   1932\u001b[0m             \u001b[1;31m# Make sure viewLim is not stale (mostly to match\u001b[0m\u001b[1;33m\u001b[0m\u001b[1;33m\u001b[0m\u001b[1;33m\u001b[0m\u001b[0m\n\u001b[0;32m   1933\u001b[0m             \u001b[1;31m# pre-lazy-autoscale behavior, which is not really better).\u001b[0m\u001b[1;33m\u001b[0m\u001b[1;33m\u001b[0m\u001b[1;33m\u001b[0m\u001b[0m\n\u001b[1;32m-> 1934\u001b[1;33m             \u001b[0mself\u001b[0m\u001b[1;33m.\u001b[0m\u001b[0m_unstale_viewLim\u001b[0m\u001b[1;33m(\u001b[0m\u001b[1;33m)\u001b[0m\u001b[1;33m\u001b[0m\u001b[1;33m\u001b[0m\u001b[0m\n\u001b[0m\u001b[0;32m   1935\u001b[0m             \u001b[0mself\u001b[0m\u001b[1;33m.\u001b[0m\u001b[0mupdate_datalim\u001b[0m\u001b[1;33m(\u001b[0m\u001b[0mcollection\u001b[0m\u001b[1;33m.\u001b[0m\u001b[0mget_datalim\u001b[0m\u001b[1;33m(\u001b[0m\u001b[0mself\u001b[0m\u001b[1;33m.\u001b[0m\u001b[0mtransData\u001b[0m\u001b[1;33m)\u001b[0m\u001b[1;33m)\u001b[0m\u001b[1;33m\u001b[0m\u001b[1;33m\u001b[0m\u001b[0m\n\u001b[0;32m   1936\u001b[0m \u001b[1;33m\u001b[0m\u001b[0m\n",
      "\u001b[1;32mD:\\Python 3.7.3\\lib\\site-packages\\matplotlib\\axes\\_base.py\u001b[0m in \u001b[0;36m_unstale_viewLim\u001b[1;34m(self)\u001b[0m\n\u001b[0;32m    645\u001b[0m             \u001b[1;32mfor\u001b[0m \u001b[0max\u001b[0m \u001b[1;32min\u001b[0m \u001b[0mself\u001b[0m\u001b[1;33m.\u001b[0m\u001b[0m_shared_y_axes\u001b[0m\u001b[1;33m.\u001b[0m\u001b[0mget_siblings\u001b[0m\u001b[1;33m(\u001b[0m\u001b[0mself\u001b[0m\u001b[1;33m)\u001b[0m\u001b[1;33m:\u001b[0m\u001b[1;33m\u001b[0m\u001b[1;33m\u001b[0m\u001b[0m\n\u001b[0;32m    646\u001b[0m                 \u001b[0max\u001b[0m\u001b[1;33m.\u001b[0m\u001b[0m_stale_viewlim_y\u001b[0m \u001b[1;33m=\u001b[0m \u001b[1;32mFalse\u001b[0m\u001b[1;33m\u001b[0m\u001b[1;33m\u001b[0m\u001b[0m\n\u001b[1;32m--> 647\u001b[1;33m             \u001b[0mself\u001b[0m\u001b[1;33m.\u001b[0m\u001b[0mautoscale_view\u001b[0m\u001b[1;33m(\u001b[0m\u001b[0mscalex\u001b[0m\u001b[1;33m=\u001b[0m\u001b[0mscalex\u001b[0m\u001b[1;33m,\u001b[0m \u001b[0mscaley\u001b[0m\u001b[1;33m=\u001b[0m\u001b[0mscaley\u001b[0m\u001b[1;33m)\u001b[0m\u001b[1;33m\u001b[0m\u001b[1;33m\u001b[0m\u001b[0m\n\u001b[0m\u001b[0;32m    648\u001b[0m \u001b[1;33m\u001b[0m\u001b[0m\n\u001b[0;32m    649\u001b[0m     \u001b[1;33m@\u001b[0m\u001b[0mproperty\u001b[0m\u001b[1;33m\u001b[0m\u001b[1;33m\u001b[0m\u001b[0m\n",
      "\u001b[1;32mD:\\Python 3.7.3\\lib\\site-packages\\matplotlib\\axes\\_base.py\u001b[0m in \u001b[0;36mautoscale_view\u001b[1;34m(self, tight, scalex, scaley)\u001b[0m\n\u001b[0;32m   2502\u001b[0m                 y_stickies = np.sort(np.concatenate([\n\u001b[0;32m   2503\u001b[0m                     \u001b[0martist\u001b[0m\u001b[1;33m.\u001b[0m\u001b[0msticky_edges\u001b[0m\u001b[1;33m.\u001b[0m\u001b[0my\u001b[0m\u001b[1;33m\u001b[0m\u001b[1;33m\u001b[0m\u001b[0m\n\u001b[1;32m-> 2504\u001b[1;33m                     \u001b[1;32mfor\u001b[0m \u001b[0max\u001b[0m \u001b[1;32min\u001b[0m \u001b[0mself\u001b[0m\u001b[1;33m.\u001b[0m\u001b[0m_shared_y_axes\u001b[0m\u001b[1;33m.\u001b[0m\u001b[0mget_siblings\u001b[0m\u001b[1;33m(\u001b[0m\u001b[0mself\u001b[0m\u001b[1;33m)\u001b[0m\u001b[1;33m\u001b[0m\u001b[1;33m\u001b[0m\u001b[0m\n\u001b[0m\u001b[0;32m   2505\u001b[0m                     \u001b[1;32mif\u001b[0m \u001b[0mhasattr\u001b[0m\u001b[1;33m(\u001b[0m\u001b[0max\u001b[0m\u001b[1;33m,\u001b[0m \u001b[1;34m\"lines\"\u001b[0m\u001b[1;33m)\u001b[0m\u001b[1;33m\u001b[0m\u001b[1;33m\u001b[0m\u001b[0m\n\u001b[0;32m   2506\u001b[0m                     for artist in ax.get_children()]))\n",
      "\u001b[1;32m<__array_function__ internals>\u001b[0m in \u001b[0;36mconcatenate\u001b[1;34m(*args, **kwargs)\u001b[0m\n",
      "\u001b[1;31mKeyboardInterrupt\u001b[0m: "
     ]
    }
   ],
   "source": [
    "   \n",
    "class Mandelbrot():\n",
    "        \n",
    "    def f(z, c):\n",
    "        return z*z + c\n",
    "\n",
    "    def iterer(c, n):\n",
    "        z = 0\n",
    "        for i in range(n):\n",
    "            z = Mandelbrot.f(z, c)\n",
    "            if abs(z) > 2 :\n",
    "                return i\n",
    "        return 0\n",
    "    \n",
    "    def f2(x, y, a, b):\n",
    "        x1 = x**2 - y**2 + a\n",
    "        y1 = 2*x*y + b\n",
    "        return (x1, y1)\n",
    "    \n",
    "    def fonctioniterer(a, b, n):\n",
    "        x, y = 0, 0\n",
    "        for i in range(n):\n",
    "            M = Mandelbrot.f2(x, y, a, b)\n",
    "            x, y = M\n",
    "            if (x**2 + y**2) > 4:\n",
    "                return i\n",
    "        return 0\n",
    "\n",
    "    def rgb2hex(r,g,b):\n",
    "        return \"#{:02x}{:02x}{:02x}\".format(r,g,b)\n",
    "\n",
    "    def afficher_pixel(i, j, c):\n",
    "        color = Mandelbrot.rgb2hex(c,c,c)\n",
    "        plt.scatter(i, j, c = color, s = 0.5)\n",
    "    \n",
    "    def choix_couleur(i):\n",
    "        return 0 + int(i * 255 / MAX_ITER)\n",
    "\n",
    "import matplotlib.pyplot as plt\n",
    "from matplotlib import colors\n",
    "from math import sqrt\n",
    "xmin, xmax, ymin, ymax = -2.0, 0.5, -1.2, 1.2\n",
    "MAX_ITER = 80\n",
    "PAS = 0.005\n",
    "if __name__ == '__main__':\n",
    "    x = xmin\n",
    "    while x <= xmax:\n",
    "        y = ymin\n",
    "        while y <= ymax:\n",
    "            c = complex(x, y)\n",
    "            m = Mandelbrot.iterer(c, MAX_ITER)\n",
    "            couleur = Mandelbrot.choix_couleur(m)\n",
    "            Mandelbrot.afficher_pixel(x, y, couleur)\n",
    "            y += PAS\n",
    "        x += PAS\n",
    "    plt.show()\n",
    "    \n",
    "    "
   ]
  }
 ],
 "metadata": {
  "colab": {
   "authorship_tag": "ABX9TyOHHws08MkBvoUPAq08P6qo",
   "include_colab_link": true,
   "name": "Untitled0.ipynb",
   "provenance": []
  },
  "kernelspec": {
   "display_name": "Python 3.7.3 64-bit",
   "language": "python",
   "name": "python_defaultSpec_1601129222044"
  },
  "language_info": {
   "codemirror_mode": {
    "name": "ipython",
    "version": 3
   },
   "file_extension": ".py",
   "mimetype": "text/x-python",
   "name": "python",
   "nbconvert_exporter": "python",
   "pygments_lexer": "ipython3",
   "version": "3.7.3-final"
  }
 },
 "nbformat": 4,
 "nbformat_minor": 1
}